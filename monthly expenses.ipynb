{
 "cells": [
  {
   "cell_type": "code",
   "execution_count": 1,
   "id": "80469ce3",
   "metadata": {},
   "outputs": [
    {
     "name": "stdout",
     "output_type": "stream",
     "text": [
      "enter monthdecember\n",
      "enter regular expences of month8000\n",
      "enter unseen expences of month1000\n",
      "enter toothpaste price50\n",
      "enter brush price20\n",
      "enter shampoo price150\n",
      "enter soap price50\n",
      "enter food price1000\n",
      "enter haircut price500\n",
      "enter children expences3000\n",
      "enter communication charges1000\n",
      "enter fuel expences2000\n"
     ]
    }
   ],
   "source": [
    "import pandas as pd\n",
    "import csv\n",
    "\n",
    "\n",
    "def a():\n",
    "    global wages\n",
    "    wages = []\n",
    "    #months = input(\"enter month name\")\n",
    "    salary = 40000\n",
    "    regular_expences = int(input(\"enter regular expences of month\"))\n",
    "    unseen_expences = int(input(\"enter unseen expences of month\"))\n",
    "    # enter_items=input(\"enter list of items with space btw them\").sp\n",
    "    toothpaste = int(input(\"enter toothpaste price\"))\n",
    "    brush = int(input(\"enter brush price\"))\n",
    "    shampoo = int(input(\"enter shampoo price\"))\n",
    "    soap = int(input(\"enter soap price\"))\n",
    "    food = int(input(\"enter food price\"))\n",
    "    haircut = int(input(\"enter haircut price\"))\n",
    "    # list_of_items=list(enter_items)\n",
    "    children_education = int(input(\"enter children expences\"))\n",
    "    communication_charges = int(input(\"enter communication charges\"))\n",
    "    fuel_expences = int(input(\"enter fuel expences\"))\n",
    "    monthly_expenditure_slip = regular_expences + unseen_expences + toothpaste + brush + shampoo + soap + food + haircut\n",
    "    savings = salary - monthly_expenditure_slip\n",
    "    wages.append(months)\n",
    "    wages.append(salary)\n",
    "    wages.append(regular_expences)\n",
    "    wages.append(unseen_expences)\n",
    "    wages.append(toothpaste)\n",
    "    wages.append(brush)\n",
    "    wages.append(shampoo)\n",
    "    wages.append(soap)\n",
    "    wages.append(food)\n",
    "    wages.append(haircut)\n",
    "    wages.append(children_education)\n",
    "    wages.append(communication_charges)\n",
    "    wages.append(fuel_expences)\n",
    "    wages.append(monthly_expenditure_slip)\n",
    "    wages.append(savings)\n",
    "    return wages\n",
    "\n",
    "\n",
    "def b():\n",
    "    with open(\"assessment1.csv\", \"a\", newline='') as csv_file:\n",
    "        writer = csv.writer(csv_file)\n",
    "        writer.writerow(wages)\n",
    "    return csv_file\n",
    "\n",
    "\n",
    "def expences():\n",
    "    lst_months = ['january', 'february', 'march', 'april', 'may', 'june', 'july', 'august', 'september', 'october',\n",
    "                  'november', 'december']\n",
    "    global months\n",
    "    months = input('enter month')\n",
    "    if months in lst_months:\n",
    "        a()\n",
    "        b()\n",
    "\n",
    "\n",
    "\n",
    "\n",
    "    else:\n",
    "        print(\"enter valid month name\")\n",
    "\n",
    "\n",
    "expences()"
   ]
  },
  {
   "cell_type": "code",
   "execution_count": null,
   "id": "afcd2079",
   "metadata": {},
   "outputs": [],
   "source": []
  }
 ],
 "metadata": {
  "kernelspec": {
   "display_name": "Python 3 (ipykernel)",
   "language": "python",
   "name": "python3"
  },
  "language_info": {
   "codemirror_mode": {
    "name": "ipython",
    "version": 3
   },
   "file_extension": ".py",
   "mimetype": "text/x-python",
   "name": "python",
   "nbconvert_exporter": "python",
   "pygments_lexer": "ipython3",
   "version": "3.9.7"
  }
 },
 "nbformat": 4,
 "nbformat_minor": 5
}
